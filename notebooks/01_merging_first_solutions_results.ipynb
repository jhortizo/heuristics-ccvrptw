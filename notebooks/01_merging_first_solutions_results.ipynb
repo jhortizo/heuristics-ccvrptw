{
 "cells": [
  {
   "cell_type": "code",
   "execution_count": null,
   "metadata": {},
   "outputs": [],
   "source": [
    "import pandas as pd"
   ]
  },
  {
   "cell_type": "code",
   "execution_count": null,
   "metadata": {},
   "outputs": [],
   "source": [
    "number_of_solutions = 10\n",
    "\n",
    "reference_data = pd.read_csv('reference_data/instances.csv')\n",
    "single_solutions_results = pd.read_csv('results/single_solution.csv')\n",
    "multiple_solutions_results = pd.read_csv(f'results/multiple_solutions_{number_of_solutions}.csv')"
   ]
  },
  {
   "cell_type": "code",
   "execution_count": null,
   "metadata": {},
   "outputs": [],
   "source": [
    "merged = pd.merge(single_solutions_results, multiple_solutions_results, on='Instance', suffixes=('_single', '_multiple'))\n",
    "\n",
    "merged = pd.merge(merged, reference_data, on='Instance')\n",
    "\n"
   ]
  }
 ],
 "metadata": {
  "language_info": {
   "name": "python"
  }
 },
 "nbformat": 4,
 "nbformat_minor": 2
}
